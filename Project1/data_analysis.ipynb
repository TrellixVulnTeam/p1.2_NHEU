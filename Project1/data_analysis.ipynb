{
 "cells": [
  {
   "cell_type": "markdown",
   "metadata": {
    "tags": [
     "excluded_from_script"
    ]
   },
   "source": [
    "# Data Analysis\n",
    "\n",
    "Before you start, make sure that you are familiar with the basic usage of Jupyter Notebook. \n",
    "\n",
    "If not, please finish the Jupyter Notebook primer first. Besides, visit the Azure Notebook library [Cloud Computing Course](https://notebooks.azure.com/CloudComputingCourse/projects/cloud-computing-course) and read the tutorials with **worked examples** and practice on Linux, Bash, and Pandas.\n",
    "\n",
    "In this task, you need to implement the following methods:\n",
    "```\n",
    "load_data_to_dataframe\n",
    "q4\n",
    "q5\n",
    "q6\n",
    "q7\n",
    "```\n",
    "\n",
    "Please implement the `load_data_to_dataframe` method first. You can check the output for each question by executing the cell below the question.\n",
    "\n",
    "More cells may be added to the notebook. If you don't want to include the cell in the converted script, please tag the cell with `excluded_from_script`. You can display the tags for each cell in Jupyter Notebook: `View > Cell Toolbar > Tags`.\n",
    "\n",
    "Execute `./runner.sh` in the console to check the result. Please make sure that the virtualenv is activated when `runner.sh` runs.\n",
    "\n",
    "\n",
    "# Pandas\n",
    "\n",
    "Pandas is a Python library for practical and real-world data analysis. It provides fast, flexible, and expressive data structures to make it easy to work with data. \n",
    "\n",
    "There are two primary data structures provided by Pandas, Series (1-dimensional) and DataFrame (2-dimensional). Last week you use Series to solve simple data analytics problems. You will practice with the DataFrame this week.\n",
    "\n",
    "# Dataframe\n",
    "\n",
    "A Dataframe is a 2-dimensional labeled data structure with columns of potentially different types, integer, floating point number, Python objects, etc. You can think of it like a spreadsheet or SQL table, or a dict of Series objects. In this task, you will load the MapReduce output `mapred_output` into a Dataframe and complete different data analytics tasks."
   ]
  },
  {
   "cell_type": "code",
   "execution_count": null,
   "metadata": {},
   "outputs": [],
   "source": [
    "import pandas as pd\n",
    "import sys\n",
    "import argparse"
   ]
  },
  {
   "cell_type": "code",
   "execution_count": null,
   "metadata": {},
   "outputs": [],
   "source": [
    "def load_data_to_dataframe(input_file):\n",
    "    \"\"\"\n",
    "    Load the input file into a Dataframe.\n",
    "    Please read the documentation of the method `pandas.read_table`:\n",
    "    https://pandas.pydata.org/pandas-docs/stable/generated/pandas.read_table.html\n",
    "    \n",
    "    The default behavior of read_table will infer the column names using the first line of the input file.\n",
    "    In the `mapred_ouput`, the first line of the input file is not the column names; \n",
    "    hence, you need to change this default behavior.\n",
    "    \n",
    "    Hint: \n",
    "    1. How to not infer the first line as the column names.\n",
    "    2. How to specify the second column of the input file, i.e. `page_title` to be read as indexes.\n",
    "    3. Don't forget the specify the encoding when reading loading data.\n",
    "    \n",
    "    :param input_file: the path to the input file\n",
    "    :return: the Dataframe\n",
    "    \"\"\"\n",
    "    \n",
    "    # TODO: Load the input_file in to a Dataframe\n",
    "    raise NotImplementedError(\"To be implemented\")\n",
    "    df = None\n",
    "    \n",
    "    return df"
   ]
  },
  {
   "cell_type": "code",
   "execution_count": null,
   "metadata": {},
   "outputs": [],
   "source": [
    "def q4():\n",
    "    \"\"\"\n",
    "    read a TSV file to a DataFrame and calculate descriptive\n",
    "    statistics\n",
    "\n",
    "    Question:\n",
    "    Print column-wise descriptive statistics of the output file.\n",
    "\n",
    "    1. the statistics metrics required are as follows (in a tabular view):\n",
    "        monthly_view  daily_view  daily_view ...  daily_view\n",
    "    count     ...           ...         ...             ...\n",
    "    mean      ...           ...         ...             ...\n",
    "    std       ...           ...         ...             ...\n",
    "    min       ...           ...         ...             ...\n",
    "    25%       ...           ...         ...             ...\n",
    "    50%       ...           ...         ...             ...\n",
    "    75%       ...           ...         ...             ...\n",
    "    max       ...           ...         ...             ...\n",
    "    2. the statistics result should be in CSV format\n",
    "    3. format each value to 2 decimal places\n",
    "\n",
    "    Use the pandas lib to read a TSV file and generate descriptive statistics\n",
    "    without having to reinvent the wheel.\n",
    "\n",
    "    Hints:\n",
    "    1. figure out the method of pandas.DataFrame which can calculate\n",
    "    descriptive statistics\n",
    "    2. figure out the parameter of pandas.DataFrame.to_csv to format the\n",
    "    floating point numbers.\n",
    "\n",
    "    Standard output format:\n",
    "    count,5422.00,5422.00,...,5422.00\n",
    "    mean,210454.72,7787.50,...,6959.28\n",
    "    std,267435.68,14333.08,...,10597.68\n",
    "    min,100001.00,0.00,...,0.00\n",
    "    25%,117623.50,3584.00,...,3477.00\n",
    "    50%,149564.00,4962.00,...,4657.00\n",
    "    75%,217951.25,7745.75,...,7126.50\n",
    "    max,12220791.00,432462.00,...,342737.00\n",
    "    \"\"\"\n",
    "    \n",
    "    # read the output into a Dataframe \n",
    "    df = load_data_to_dataframe(\"mapred_output\")\n",
    "    \n",
    "    # TODO: replace \"None\" with your implementation\n",
    "    raise NotImplementedError(\"To be implemented\")\n",
    "    res = None\n",
    "    \n",
    "    # TODO: print the result to standard output using following template code:\n",
    "    # res.to_csv(sys.stdout, header=None, encoding='utf-8', <params>)\n",
    "    raise NotImplementedError(\"To be implemented\")\n"
   ]
  },
  {
   "cell_type": "code",
   "execution_count": null,
   "metadata": {
    "tags": [
     "excluded_from_script"
    ]
   },
   "outputs": [],
   "source": [
    "q4()"
   ]
  },
  {
   "cell_type": "code",
   "execution_count": null,
   "metadata": {},
   "outputs": [],
   "source": [
    "def q5():\n",
    "    \"\"\"\n",
    "    \n",
    "    Series in Dataframe\n",
    "\n",
    "    Question:\n",
    "    Print the 85th percentile of daily pageviews on March 10.\n",
    "    Note: the data starts on March 8.\n",
    "\n",
    "    A DataFrame can be thought of as a dictionary of Series:\n",
    "    each column is a Series and all the Series share the same index.\n",
    "\n",
    "    The workflow to solve this question can be as follows:\n",
    "    1. read the file as a DataFrame\n",
    "    2. select the column of March 10\n",
    "    3. calculate the 85th percentile\n",
    "\n",
    "    In this question, you will explore one of the approaches to get a column\n",
    "    from a DataFrame: integer position based selection (iloc).\n",
    "\n",
    "    Read the \"Selection By Position\" section at:\n",
    "    https://pandas.pydata.org/pandas-docs/stable/indexing.html\n",
    "\n",
    "    Standard output format:\n",
    "    <a decimal value with 2 decimal places>\n",
    "    \n",
    "    \"\"\"\n",
    "    \n",
    "    # read the output into a Dataframe\n",
    "    df = load_data_to_dataframe(\"mapred_output\")\n",
    "    \n",
    "    # TODO: replace \"None\" with your implementation\n",
    "    raise NotImplementedError(\"To be implemented\")\n",
    "    res = None\n",
    "    \n",
    "    # print the result\n",
    "    print(\"%.2f\" % res)"
   ]
  },
  {
   "cell_type": "code",
   "execution_count": null,
   "metadata": {
    "tags": [
     "excluded_from_script"
    ]
   },
   "outputs": [],
   "source": [
    "q5()"
   ]
  },
  {
   "cell_type": "code",
   "execution_count": null,
   "metadata": {},
   "outputs": [],
   "source": [
    "def q6():\n",
    "    \"\"\"\n",
    "    Data filtering in DataFrame\n",
    "    \n",
    "    Question:\n",
    "    Print all the rows with all the daily views greater or equal to 50000\n",
    "    \n",
    "    Boolean indexing can be used in Dataframe as well.\n",
    "    \n",
    "    Boolean Reduction can be used to summarize a boolean result:\n",
    "    https://pandas.pydata.org/pandas-docs/stable/basics.html#boolean-reductions\n",
    "    \n",
    "    Standard output format:\n",
    "    <row with all the daily views greater or equal to 50000>\n",
    "    <row with all the daily views greater or equal to 50000>\n",
    "    <row with all the daily views greater or equal to 50000>\n",
    "    ...\n",
    "\n",
    "    \"\"\"\n",
    "\n",
    "    # read the output into a Dataframe \n",
    "    df = load_data_to_dataframe(\"mapred_output\")\n",
    "    \n",
    "    # TODO: replace \"None\" with your implementation\n",
    "    raise NotImplementedError(\"To be implemented\")\n",
    "    res = None\n",
    "    \n",
    "    # print the result in csv format\n",
    "    res.to_csv(sys.stdout, header=None, encoding='utf-8')"
   ]
  },
  {
   "cell_type": "code",
   "execution_count": null,
   "metadata": {
    "tags": [
     "excluded_from_script"
    ]
   },
   "outputs": [],
   "source": [
    "q6()"
   ]
  },
  {
   "cell_type": "code",
   "execution_count": null,
   "metadata": {},
   "outputs": [],
   "source": [
    "def q7():\n",
    "    \"\"\"\n",
    "    rank DataFrame and break ties\n",
    "\n",
    "    Question:\n",
    "    `teams.txt` has a list of articles about NCCA men's basketball teams. Please\n",
    "    rank the men's basketball teams by the monthly pageviews. Print the ranked\n",
    "    result as a JSON object.\n",
    "\n",
    "    The keys of the JSON object are the articles, and the values are the\n",
    "    rankings (not pageviews).\n",
    "\n",
    "    If the name of men's basketball team does not exist in `output`, do\n",
    "    not include it in the ranking.\n",
    "\n",
    "    Use \"dense ranking\" to deal with ties, a.k.a \"1223\" ranking.\n",
    "    If A ranks ahead of B and C (which compare equal) and both ranked ahead of\n",
    "    D, then A gets ranking number 1 (\"first\"), B gets ranking number 2\n",
    "    (\"joint second\"), C also gets ranking number 2 (\"joint second\") and D gets\n",
    "    ranking number 3 (\"third\").\n",
    "    Reference: https://en.wikipedia.org/wiki/Ranking\n",
    "\n",
    "    There is no need to (re)implement your own ranking algorithm.\n",
    "    pandas.DataFrame.rank enables users to choose from different ways to\n",
    "    assign a rank to tied elements.\n",
    "\n",
    "    Standard output format:\n",
    "    {\"UMBC_Retrievers_men's_basketball\":3,...,\"Gonzaga_Bulldogs_men's_basketball\":6}\n",
    "    \"\"\"\n",
    "    \n",
    "    # read the output into a Dataframe\n",
    "    df = load_data_to_dataframe(\"mapred_output\")\n",
    "    teams_df = pd.read_table('teams.txt', index_col=0)\n",
    "    \n",
    "    # TODO: Rank the men's basketball teams by the monthly pageviews\n",
    "    # \n",
    "    # One possible solution is as follows:\n",
    "    # monthly_view = df.iloc[<position>]\n",
    "    # teams_df = teams_df.join(monthly_view, how=\"inner\")\n",
    "    # res = teams_df.rank(<params>).<methods>\n",
    "    \n",
    "    raise NotImplementedError(\"To be implemented\")\n",
    "    \n",
    "    # print the result in json format\n",
    "    print(res.to_json())"
   ]
  },
  {
   "cell_type": "code",
   "execution_count": null,
   "metadata": {
    "tags": [
     "excluded_from_script"
    ]
   },
   "outputs": [],
   "source": [
    "q7()"
   ]
  },
  {
   "cell_type": "markdown",
   "metadata": {
    "tags": [
     "excluded_from_script"
    ]
   },
   "source": [
    "# DO NOT MODIFY ANYTHING BELOW  "
   ]
  },
  {
   "cell_type": "code",
   "execution_count": null,
   "metadata": {},
   "outputs": [],
   "source": [
    "def main():\n",
    "    parser = argparse.ArgumentParser(\n",
    "    description=\"Project 1.2 Data Analysis\")\n",
    "    parser.add_argument(\"-r\",\n",
    "                        metavar='<question_id>',\n",
    "                        required=False)\n",
    "    args = parser.parse_args()\n",
    "    question = args.r\n",
    "\n",
    "    if question is None:\n",
    "        q4()\n",
    "        q5()\n",
    "        q6()\n",
    "        q7()\n",
    "    elif question == \"q4\":\n",
    "        q4()\n",
    "    elif question == \"q5\":\n",
    "        q5()\n",
    "    elif question == \"q6\":\n",
    "        q6()\n",
    "    elif question == \"q7\":\n",
    "        q7()\n",
    "    else:\n",
    "        print(\"Invalid question\")\n",
    "        \n",
    "if __name__ == \"__main__\":\n",
    "    main()"
   ]
  }
 ],
 "metadata": {
  "celltoolbar": "Tags",
  "kernelspec": {
   "display_name": "Python 3",
   "language": "python",
   "name": "python3"
  },
  "language_info": {
   "codemirror_mode": {
    "name": "ipython",
    "version": 3
   },
   "file_extension": ".py",
   "mimetype": "text/x-python",
   "name": "python",
   "nbconvert_exporter": "python",
   "pygments_lexer": "ipython3",
   "version": "3.7.2"
  }
 },
 "nbformat": 4,
 "nbformat_minor": 2
}
